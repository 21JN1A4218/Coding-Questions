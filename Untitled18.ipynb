{
  "nbformat": 4,
  "nbformat_minor": 0,
  "metadata": {
    "colab": {
      "provenance": [],
      "authorship_tag": "ABX9TyMeJ2yIoKBehYzdyy91CoUW",
      "include_colab_link": true
    },
    "kernelspec": {
      "name": "python3",
      "display_name": "Python 3"
    },
    "language_info": {
      "name": "python"
    }
  },
  "cells": [
    {
      "cell_type": "markdown",
      "metadata": {
        "id": "view-in-github",
        "colab_type": "text"
      },
      "source": [
        "<a href=\"https://colab.research.google.com/github/21JN1A4218/Coding-Questions/blob/main/Untitled18.ipynb\" target=\"_parent\"><img src=\"https://colab.research.google.com/assets/colab-badge.svg\" alt=\"Open In Colab\"/></a>"
      ]
    },
    {
      "cell_type": "code",
      "execution_count": null,
      "metadata": {
        "id": "caXAExjZJWfI",
        "colab": {
          "base_uri": "https://localhost:8080/"
        },
        "outputId": "8971e094-b979-44ad-e5e5-7044edf67381"
      },
      "outputs": [
        {
          "output_type": "stream",
          "name": "stdout",
          "text": [
            "5\n",
            "Chara\n",
            "C\n",
            "1\n"
          ]
        }
      ],
      "source": [
        "N=int(input())\n",
        "S=input()\n",
        "A=input()\n",
        "count=0\n",
        "for i in S:\n",
        "  if i==A:\n",
        "    count+=1\n",
        "print(count)"
      ]
    },
    {
      "cell_type": "markdown",
      "source": [
        "*OR*"
      ],
      "metadata": {
        "id": "eCe7OMYxLat2"
      }
    },
    {
      "cell_type": "code",
      "source": [
        "def Character_Count(S,N,C):\n",
        "  return S.count(C)\n",
        "N=int(input())\n",
        "S=input()\n",
        "C=input()\n",
        "print(Character_Count(S,N,C))\n"
      ],
      "metadata": {
        "colab": {
          "base_uri": "https://localhost:8080/"
        },
        "id": "NKD-ysI_Lfbc",
        "outputId": "1a4292a4-ba6b-484e-c74c-30b31dd549fd"
      },
      "execution_count": null,
      "outputs": [
        {
          "output_type": "stream",
          "name": "stdout",
          "text": [
            "5\n",
            "KEERTHI\n",
            "E\n",
            "2\n"
          ]
        }
      ]
    },
    {
      "cell_type": "markdown",
      "source": [
        "**ISLAND LIFE**"
      ],
      "metadata": {
        "id": "UxRT9lJOM0nP"
      }
    },
    {
      "cell_type": "code",
      "source": [
        "def min_boxes_to_survive(N, E, D):\n",
        "\n",
        "    total_sweets_needed = E * D\n",
        "\n",
        "    sundays = D // 7\n",
        "\n",
        "    effective_days = D - sundays\n",
        "\n",
        "    min_boxes_needed = total_sweets_needed // N\n",
        "\n",
        "\n",
        "    if total_sweets_needed % N != 0:\n",
        "        min_boxes_needed += 1\n",
        "\n",
        "\n",
        "    if min_boxes_needed > effective_days:\n",
        "        return -1\n",
        "    else:\n",
        "        return min_boxes_needed\n",
        "\n",
        "# Example usage\n",
        "N = int(input())\n",
        "E = int(input())\n",
        "D = int(input())\n",
        "\n",
        "result = min_boxes_to_survive(N, E, D)\n",
        "print(result)\n",
        "\n"
      ],
      "metadata": {
        "colab": {
          "base_uri": "https://localhost:8080/"
        },
        "id": "GXpWbbyEMbda",
        "outputId": "0e4d91ed-fc57-42c0-d40e-99ccbd99a0f4"
      },
      "execution_count": null,
      "outputs": [
        {
          "output_type": "stream",
          "name": "stdout",
          "text": [
            "5\n",
            "6\n",
            "4\n",
            "-1\n"
          ]
        }
      ]
    },
    {
      "cell_type": "code",
      "source": [
        "def lowercase_count(S,N):\n",
        "  lowercase_letters=\"\"\n",
        "  count=0\n",
        "  for char in S:\n",
        "    if char.islower():\n",
        "      lowercase_letters += char\n",
        "      count+=1\n",
        "  return lowercase_letters + \":\" +str(count)\n",
        "N=int(input())\n",
        "S=input()\n",
        "result=lowercase_count(S,N)\n",
        "print(result)"
      ],
      "metadata": {
        "id": "pP9foDHucBEn",
        "colab": {
          "base_uri": "https://localhost:8080/"
        },
        "outputId": "3ed47238-e996-4b40-b70b-a57957df6409"
      },
      "execution_count": 8,
      "outputs": [
        {
          "output_type": "stream",
          "name": "stdout",
          "text": [
            "7\n",
            "Keerthi\n",
            "eerthi:6\n"
          ]
        }
      ]
    }
  ]
}