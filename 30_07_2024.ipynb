{
  "nbformat": 4,
  "nbformat_minor": 0,
  "metadata": {
    "colab": {
      "provenance": [],
      "authorship_tag": "ABX9TyNwDSOFDi9PojBEPoBV9NkO",
      "include_colab_link": true
    },
    "kernelspec": {
      "name": "python3",
      "display_name": "Python 3"
    },
    "language_info": {
      "name": "python"
    }
  },
  "cells": [
    {
      "cell_type": "markdown",
      "metadata": {
        "id": "view-in-github",
        "colab_type": "text"
      },
      "source": [
        "<a href=\"https://colab.research.google.com/github/21JN1A4218/Coding-Questions/blob/main/30_07_2024.ipynb\" target=\"_parent\"><img src=\"https://colab.research.google.com/assets/colab-badge.svg\" alt=\"Open In Colab\"/></a>"
      ]
    },
    {
      "cell_type": "markdown",
      "source": [
        "Write a program to find the length of the longest common\n",
        "subsequence between two strings."
      ],
      "metadata": {
        "id": "YyvhhNZUHCbv"
      }
    },
    {
      "cell_type": "code",
      "source": [
        "def lcs(s1,s2):\n",
        "  res=[]\n",
        "  for i in s1:\n",
        "    if i in s2:\n",
        "      res.append(i)\n",
        "  return len(res)\n",
        "s1=input()\n",
        "s2=input()\n",
        "print(lcs(s1,s2))"
      ],
      "metadata": {
        "colab": {
          "base_uri": "https://localhost:8080/"
        },
        "id": "YYbBbzd_HDoD",
        "outputId": "23ba3e13-1a7a-40eb-bec7-ea24fa528596"
      },
      "execution_count": null,
      "outputs": [
        {
          "output_type": "stream",
          "name": "stdout",
          "text": [
            "abcd\n",
            "abd\n",
            "3\n"
          ]
        }
      ]
    },
    {
      "cell_type": "markdown",
      "source": [
        "function:\n",
        "int Calculate(int m, int n);\n",
        "The function accepts 2 positive integers ‘m’ and ‘n’ as its arguments.You\n",
        "are required to calculate the sum of numbers divisible both by 3 and 5,\n",
        "between ‘m’ and ‘n’ both inclusive and return the same.\n",
        "Note\n",
        "0 < m <= n\n",
        "Example\n",
        "Input:\n",
        "m : 12\n",
        "n : 50\n",
        "Output\n",
        "90\n",
        "Explanation:\n",
        "The numbers divisible by both 3 and 5, between 12 and 50 both\n",
        "inclusive are {15, 30, 45} and their sum is 90.\n",
        "Sample Input\n",
        "m : 100\n",
        "n : 160\n",
        "Sample Output\n",
        "510"
      ],
      "metadata": {
        "id": "XNYFOO6HHrAG"
      }
    },
    {
      "cell_type": "code",
      "source": [
        "def Calculate(m,n):\n",
        "  sum=0\n",
        "  for i in range(m,n+1):\n",
        "    if i%3==0 and i%5==0:\n",
        "      sum+=i\n",
        "  return sum\n",
        "m=int(input())\n",
        "n=int(input())\n",
        "print(Calculate(m,n))"
      ],
      "metadata": {
        "colab": {
          "base_uri": "https://localhost:8080/"
        },
        "id": "X_cw43YgH4Lu",
        "outputId": "5368ba19-08b1-466c-bef5-e4c2204bfea5"
      },
      "execution_count": null,
      "outputs": [
        {
          "output_type": "stream",
          "name": "stdout",
          "text": [
            "12\n",
            "50\n",
            "90\n"
          ]
        }
      ]
    },
    {
      "cell_type": "markdown",
      "source": [
        " MATRIX EVEN ODD\n",
        "You are required to input the size of the matrix then the elements of\n",
        "matrix, then you have to divide the main matrix in two sub matrices\n",
        "(even and odd) in such a way that element at 0 index will be considered\n",
        "as even and element at 1st index will be considered as odd and so on.\n",
        "Then you have sort the even and odd matrices in ascending order and\n",
        "print the sum of second largest number from both the matrices.\n",
        "Example\n",
        "enter the size of array : 5\n",
        "enter element at 0 index : 3\n",
        "enter element at 1 index : 4\n",
        "enter element at 2 index : 1\n",
        "enter element at 3 index : 7\n",
        "enter element at 4 index : 9\n",
        "Sorted even array : 1 3 9\n",
        "Sorted odd array : 4 7\n",
        "Sum = 7"
      ],
      "metadata": {
        "id": "WTKEMy4HIgvP"
      }
    },
    {
      "cell_type": "code",
      "source": [
        "n=int(input())\n",
        "arr=list(map(int,input().split()))\n",
        "even=[]\n",
        "odd=[]\n",
        "for i in range(n):\n",
        "  if i%2==0:\n",
        "    even.append(arr[i])\n",
        "  else:\n",
        "    odd.append(arr[i])\n",
        "even.sort()\n",
        "odd.sort()\n",
        "print(even[-2]+odd[-2])"
      ],
      "metadata": {
        "colab": {
          "base_uri": "https://localhost:8080/"
        },
        "id": "v6RBwnG9IlH1",
        "outputId": "978b2583-8c1f-4585-ecf6-6b7ad1e9e6e5"
      },
      "execution_count": null,
      "outputs": [
        {
          "output_type": "stream",
          "name": "stdout",
          "text": [
            "5\n",
            "3 4 1 7 9\n",
            "7\n"
          ]
        }
      ]
    },
    {
      "cell_type": "markdown",
      "source": [
        "DECODE\n",
        "N-base notation is a system for writing numbers that uses only n\n",
        "different symbols, This symbols are the first n symbols from the given\n",
        "notation list(Including the symbol for o) Decimal to n base notation are\n",
        "(0:0, 1:1, 2:2, 3:3, 4:4, 5:5, 6:6, 7:7, 8:8, 9:9, 10:A,11:B and so on upto\n",
        "35:Z).\n",
        "Implement the following function\n",
        "char DectoNBase(int n, int num):*\n",
        "The function accept positive integer n and num Implement the function\n",
        "to calculate the n-base equivalent of num and return the same as a\n",
        "string\n",
        "Steps:\n",
        "Divide the decimal number by n,Treat the division as the integer\n",
        "division\n",
        "Write the the remainder (in n-base notation)\n",
        "Divide the quotient again by n, Treat the division as integer division\n",
        "Repeat step 2 and 3 until the quotient is 0\n",
        "The n-base value is the sequence of the remainders from last to first\n",
        "Assumption:\n",
        "1 < n < = 36\n",
        " Example\n",
        "Input\n",
        "n: 12\n",
        "num: 718\n",
        "Output\n",
        "4BA\n",
        "Explanation\n",
        "num = 718, divisor = 12, quotient=59, remainder=10(A).\n",
        "num = 59, divisor = 12, quotient=4, remainder=11(B).\n",
        "num = 4, divisor = 12, quotient=0, remainder=4(A)."
      ],
      "metadata": {
        "id": "bshJ28LhKfEE"
      }
    },
    {
      "cell_type": "code",
      "source": [
        "def Dectobase(n,num):\n",
        "    notation=\"0123456789ABCDEFGHIJKLMNOPQRSTUVWXYZ\"\n",
        "    res=''\n",
        "    while num>0:\n",
        "      rem=num%n\n",
        "      res=notation[rem]+res\n",
        "      num=num//n\n",
        "    return res\n",
        "n=int(input())\n",
        "num=int(input())\n",
        "print(Dectobase(n,num))"
      ],
      "metadata": {
        "colab": {
          "base_uri": "https://localhost:8080/"
        },
        "id": "XgWpu_SpKi6M",
        "outputId": "2edff6d7-d15c-4fc0-e0bf-570b683895e2"
      },
      "execution_count": null,
      "outputs": [
        {
          "output_type": "stream",
          "name": "stdout",
          "text": [
            "12\n",
            "718\n",
            "4BA\n"
          ]
        }
      ]
    }
  ]
}